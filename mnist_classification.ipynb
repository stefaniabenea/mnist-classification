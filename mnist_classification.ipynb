{
 "cells": [
  {
   "cell_type": "code",
   "execution_count": 1,
   "id": "75e42d8b-8cdb-4e18-bc02-39516cad2e43",
   "metadata": {},
   "outputs": [
    {
     "name": "stdout",
     "output_type": "stream",
     "text": [
      "Downloading http://yann.lecun.com/exdb/mnist/train-images-idx3-ubyte.gz\n",
      "Failed to download (trying next):\n",
      "HTTP Error 404: Not Found\n",
      "\n",
      "Downloading https://ossci-datasets.s3.amazonaws.com/mnist/train-images-idx3-ubyte.gz\n",
      "Downloading https://ossci-datasets.s3.amazonaws.com/mnist/train-images-idx3-ubyte.gz to ./data\\MNIST\\raw\\train-images-idx3-ubyte.gz\n"
     ]
    },
    {
     "name": "stderr",
     "output_type": "stream",
     "text": [
      "100.0%\n"
     ]
    },
    {
     "name": "stdout",
     "output_type": "stream",
     "text": [
      "Extracting ./data\\MNIST\\raw\\train-images-idx3-ubyte.gz to ./data\\MNIST\\raw\n",
      "\n",
      "Downloading http://yann.lecun.com/exdb/mnist/train-labels-idx1-ubyte.gz\n",
      "Failed to download (trying next):\n",
      "HTTP Error 404: Not Found\n",
      "\n",
      "Downloading https://ossci-datasets.s3.amazonaws.com/mnist/train-labels-idx1-ubyte.gz\n",
      "Downloading https://ossci-datasets.s3.amazonaws.com/mnist/train-labels-idx1-ubyte.gz to ./data\\MNIST\\raw\\train-labels-idx1-ubyte.gz\n"
     ]
    },
    {
     "name": "stderr",
     "output_type": "stream",
     "text": [
      "100.0%\n"
     ]
    },
    {
     "name": "stdout",
     "output_type": "stream",
     "text": [
      "Extracting ./data\\MNIST\\raw\\train-labels-idx1-ubyte.gz to ./data\\MNIST\\raw\n",
      "\n",
      "Downloading http://yann.lecun.com/exdb/mnist/t10k-images-idx3-ubyte.gz\n",
      "Failed to download (trying next):\n",
      "HTTP Error 404: Not Found\n",
      "\n",
      "Downloading https://ossci-datasets.s3.amazonaws.com/mnist/t10k-images-idx3-ubyte.gz\n",
      "Downloading https://ossci-datasets.s3.amazonaws.com/mnist/t10k-images-idx3-ubyte.gz to ./data\\MNIST\\raw\\t10k-images-idx3-ubyte.gz\n"
     ]
    },
    {
     "name": "stderr",
     "output_type": "stream",
     "text": [
      "100.0%\n"
     ]
    },
    {
     "name": "stdout",
     "output_type": "stream",
     "text": [
      "Extracting ./data\\MNIST\\raw\\t10k-images-idx3-ubyte.gz to ./data\\MNIST\\raw\n",
      "\n",
      "Downloading http://yann.lecun.com/exdb/mnist/t10k-labels-idx1-ubyte.gz\n",
      "Failed to download (trying next):\n",
      "HTTP Error 404: Not Found\n",
      "\n",
      "Downloading https://ossci-datasets.s3.amazonaws.com/mnist/t10k-labels-idx1-ubyte.gz\n",
      "Downloading https://ossci-datasets.s3.amazonaws.com/mnist/t10k-labels-idx1-ubyte.gz to ./data\\MNIST\\raw\\t10k-labels-idx1-ubyte.gz\n"
     ]
    },
    {
     "name": "stderr",
     "output_type": "stream",
     "text": [
      "100.0%"
     ]
    },
    {
     "name": "stdout",
     "output_type": "stream",
     "text": [
      "Extracting ./data\\MNIST\\raw\\t10k-labels-idx1-ubyte.gz to ./data\\MNIST\\raw\n",
      "\n"
     ]
    },
    {
     "name": "stderr",
     "output_type": "stream",
     "text": [
      "\n"
     ]
    }
   ],
   "source": [
    "# import libraries\n",
    "# main library in pytorch\n",
    "import torch\n",
    "# library that contains datasets, functions for images, pretrained models\n",
    "import torchvision\n",
    "# import transforms module for image preprocessing\n",
    "import torchvision.transforms as transforms\n",
    "\n",
    "# transform images to tensor (PyTorch format) with normalized values between 0 and 1\n",
    "transform = transforms.ToTensor()\n",
    "\n",
    "# download and load the MNIST training dataset\n",
    "trainset = torchvision.datasets.MNIST(root='./data', train=True, download=True, transform=transform)\n",
    "\n",
    "# create a DataLoader to load data in batches of 64, shuffling the data\n",
    "trainloader = torch.utils.data.DataLoader(trainset, batch_size=64, shuffle=True)"
   ]
  },
  {
   "cell_type": "code",
   "execution_count": 3,
   "id": "34a0a27a-489e-4cdc-ac3c-70b3a4927247",
   "metadata": {},
   "outputs": [],
   "source": [
    "# define model\n",
    "from torch import nn\n",
    "\n",
    "model = nn.Sequential(\n",
    "    nn.Flatten(),\n",
    "    nn.Linear(28*28, 128),\n",
    "    nn.ReLU(),\n",
    "    nn.Linear(128, 10)\n",
    ")"
   ]
  },
  {
   "cell_type": "code",
   "execution_count": 4,
   "id": "f4d13710-6ea8-4771-86d8-8305570f92d2",
   "metadata": {},
   "outputs": [],
   "source": [
    "# define loss function for multi-class classification\n",
    "loss_fn = nn.CrossEntropyLoss() \n",
    "# Adam optimizer \n",
    "optimizer = torch.optim.Adam(model.parameters(), lr=1e-3)  "
   ]
  },
  {
   "cell_type": "code",
   "execution_count": 6,
   "id": "ff6fba07-a114-4b16-ad8d-c52a23706a32",
   "metadata": {},
   "outputs": [
    {
     "name": "stdout",
     "output_type": "stream",
     "text": [
      "Epoch 1/5, Loss: 144.3741\n",
      "Epoch 2/5, Loss: 102.4259\n",
      "Epoch 3/5, Loss: 78.1003\n",
      "Epoch 4/5, Loss: 62.8204\n",
      "Epoch 5/5, Loss: 51.4392\n"
     ]
    }
   ],
   "source": [
    "num_epochs = 5 \n",
    "# loop over the dataset once (1 epoch)\n",
    "for epoch in range(num_epochs):\n",
    "    # track total loss in the epoch\n",
    "    running_loss = 0.0  \n",
    "    # iterate over batches from the DataLoader\n",
    "    for images, labels in trainloader:\n",
    "        # forward pass: compute predictions\n",
    "        preds = model(images)\n",
    "        \n",
    "        # compute the loss\n",
    "        loss = loss_fn(preds, labels)\n",
    "        \n",
    "        # clear gradients from the previous step\n",
    "        optimizer.zero_grad()\n",
    "        \n",
    "        # backpropagation: compute gradients\n",
    "        loss.backward()\n",
    "        \n",
    "        # update model weights\n",
    "        optimizer.step()\n",
    "        \n",
    "        # convert tensor to float and accumulate\n",
    "        running_loss += loss.item()  \n",
    "        \n",
    "    print(f\"Epoch {epoch+1}/{num_epochs}, Loss: {running_loss:.4f}\")"
   ]
  },
  {
   "cell_type": "code",
   "execution_count": 7,
   "id": "8346cde5-03da-4020-ad14-acf6af42dc72",
   "metadata": {},
   "outputs": [
    {
     "name": "stdout",
     "output_type": "stream",
     "text": [
      "Test Accuracy: 97.59%\n"
     ]
    }
   ],
   "source": [
    "# load the test dataset\n",
    "testset = torchvision.datasets.MNIST(root='./data', train=False, download=True, transform=transform)\n",
    "testloader = torch.utils.data.DataLoader(testset, batch_size=64, shuffle=False)\n",
    "\n",
    "# variables to track correct predictions\n",
    "correct = 0\n",
    "total = 0\n",
    "\n",
    "# disable gradient calculation during evaluation\n",
    "with torch.no_grad():\n",
    "    for images, labels in testloader:\n",
    "        # forward pass\n",
    "        outputs = model(images)  \n",
    "        \n",
    "        # get class with highest score\n",
    "        _, predicted = torch.max(outputs, 1)  \n",
    "\n",
    "        # total number of images\n",
    "        total += labels.size(0)  \n",
    "\n",
    "        # count correct predictions\n",
    "        correct += (predicted == labels).sum().item()  \n",
    "\n",
    "# print accuracy\n",
    "print(f\"Test Accuracy: {100 * correct / total:.2f}%\")"
   ]
  },
  {
   "cell_type": "code",
   "execution_count": 8,
   "id": "a4a60022-7661-4026-8de1-5ebb3617c1fd",
   "metadata": {},
   "outputs": [
    {
     "data": {
      "image/png": "[encoded data removed]",
      "text/plain": [
       "<Figure size 1200x400 with 8 Axes>"
      ]
     },
     "metadata": {},
     "output_type": "display_data"
    }
   ],
   "source": [
    "# visualise\n",
    "import matplotlib.pyplot as plt\n",
    "\n",
    "# get a batch of test images\n",
    "images, labels = next(iter(testloader))\n",
    "\n",
    "# get predictions (no gradients needed during inference)\n",
    "with torch.no_grad():\n",
    "    outputs = model(images)\n",
    "    _, predicted = torch.max(outputs, 1)\n",
    "\n",
    "# function to show an image\n",
    "def show_image(img):\n",
    "    # remove channel dim (1x28x28 → 28x28)\n",
    "    img = img.numpy().squeeze()  \n",
    "    plt.imshow(img, cmap='gray')\n",
    "    plt.axis('off')\n",
    "\n",
    "# plot the first 8 images with predictions and true labels\n",
    "plt.figure(figsize=(12, 4))\n",
    "for i in range(8):\n",
    "    plt.subplot(2, 4, i + 1)\n",
    "    show_image(images[i])\n",
    "    plt.title(f\"Pred: {predicted[i].item()}\\nLabel: {labels[i].item()}\")\n",
    "plt.tight_layout()\n",
    "plt.show()\n"
   ]
  },
  {
   "cell_type": "code",
   "execution_count": 9,
   "id": "9c18af13-5315-4195-a97c-19c1d95a666f",
   "metadata": {},
   "outputs": [
    {
     "data": {
      "image/png": "[encoded data removed]",
      "text/plain": [
       "<Figure size 1200x400 with 8 Axes>"
      ]
     },
     "metadata": {},
     "output_type": "display_data"
    }
   ],
   "source": [
    "import matplotlib.pyplot as plt\n",
    "\n",
    "# disable gradient calculation for efficiency during inference\n",
    "with torch.no_grad():\n",
    "    all_images = []\n",
    "    all_labels = []\n",
    "    all_preds = []\n",
    "\n",
    "    for images, labels in testloader:\n",
    "        outputs = model(images)\n",
    "        _, predicted = torch.max(outputs, 1)\n",
    "\n",
    "        # find indices where predictions do not match labels (wrong predictions)\n",
    "        wrong_idx = (predicted != labels).nonzero(as_tuple=True)[0]\n",
    "\n",
    "        # store wrong images, labels and predictions\n",
    "        all_images.append(images[wrong_idx])\n",
    "        all_labels.append(labels[wrong_idx])\n",
    "        all_preds.append(predicted[wrong_idx])\n",
    "\n",
    "    # concatenate all wrong predictions from all batches\n",
    "    all_images = torch.cat(all_images)\n",
    "    all_labels = torch.cat(all_labels)\n",
    "    all_preds = torch.cat(all_preds)\n",
    "\n",
    "# function to show a single image\n",
    "def show_image(img):\n",
    "    img = img.numpy().squeeze()  \n",
    "    plt.imshow(img, cmap='gray')\n",
    "    plt.axis('off')\n",
    "\n",
    "plt.figure(figsize=(12, 4))\n",
    "num_to_show = min(8, len(all_images))  \n",
    "\n",
    "for i in range(num_to_show):\n",
    "    plt.subplot(2, 4, i + 1)\n",
    "    show_image(all_images[i])\n",
    "    plt.title(f\"Pred: {all_preds[i].item()}\\nLabel: {all_labels[i].item()}\")\n",
    "\n",
    "plt.tight_layout()\n",
    "plt.show()\n"
   ]
  },
  {
   "cell_type": "code",
   "execution_count": 10,
   "id": "84b9f4e6-35e6-47ca-8440-42516b44b350",
   "metadata": {},
   "outputs": [],
   "source": [
    "# save the model\n",
    "torch.save(model.state_dict(), 'mnist_model.pth')"
   ]
  },
  {
   "cell_type": "code",
   "execution_count": null,
   "id": "471f85dd-4dd7-4603-95b1-ffbf82f084d9",
   "metadata": {},
   "outputs": [],
   "source": []
  }
 ],
 "metadata": {
  "kernelspec": {
   "display_name": "Python 3 (ipykernel)",
   "language": "python",
   "name": "python3"
  },
  "language_info": {
   "codemirror_mode": {
    "name": "ipython",
    "version": 3
   },
   "file_extension": ".py",
   "mimetype": "text/x-python",
   "name": "python",
   "nbconvert_exporter": "python",
   "pygments_lexer": "ipython3",
   "version": "3.10.18"
  }
 },
 "nbformat": 4,
 "nbformat_minor": 5
}
